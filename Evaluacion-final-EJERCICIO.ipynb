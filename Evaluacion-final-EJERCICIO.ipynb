{
 "cells": [
  {
   "cell_type": "markdown",
   "metadata": {},
   "source": [
    "# Evaluación Final\n",
    "Andrea Betetta"
   ]
  },
  {
   "cell_type": "code",
   "execution_count": 291,
   "metadata": {},
   "outputs": [],
   "source": [
    "\n",
    " ##Creamos el método constructor de la clase TiendaOnline\n",
    "    #inventario (lista de diccionarios): \n",
    "    # Un atributo para almacenar los productos en el inventario. \n",
    "    # Cada producto debe ser representado como un diccionario con las siguientes claves: 'nombre', 'precio', y 'cantidad'. \n",
    "    # Al principio deberá ser una lista vacía. Ejemplo de como debería ser:\n",
    "        # [{'nombre': 'Camisa', 'precio': 20, 'cantidad': 40},\n",
    "        # {'nombre': 'Pantalón', 'precio': 30, 'cantidad': 30}]\n",
    "\n",
    "    #clientes (diccionario): \n",
    "    #Un atributo para llevar un registro de los clientes de la tienda. \n",
    "    # Cada cliente debe ser representado como un diccionario con las siguientes claves: 'nombre' y 'email'. \n",
    "    # Al inicio deberá ser un diccionario vacío. Además, cada cliente debe tener un historial de compras. Deberá parecerse a:\n",
    "        # {'Cliente1': {'email': 'cliente1@email.com', 'compras': []},\n",
    "        # 'Cliente2': {'email': 'cliente2@email.com', 'compras': []}}\n",
    "\n",
    "    #ventas_totales (float): \n",
    "    # Un atributo para llevar un registro de las ventas totales de la tienda. \n",
    "    # Inicializalo con valor 0.\n",
    "\n",
    "class TiendaOnline():\n",
    "    \n",
    "    def __init__(self,inventario = [],clientes = {},ventas_totales= ()):\n",
    "        #Añadimos los atributos que nos han solicitado\n",
    "\n",
    "        self.inventario = inventario\n",
    "        self.clientes = clientes\n",
    "        self.ventas_totales = ventas_totales\n",
    "\n",
    "\n",
    "    ## agregar_producto(self, nombre, precio, cantidad): Este método agrega un producto al inventario o actualiza su cantidad si ya existe. \n",
    "    # Debe recibir el nombre, precio y cantidad del producto como parámetros.\n",
    "    # Itera a través del inventario y compara los nombres de los productos con el nombre proporcionado.\n",
    "    # Si el producto ya existe, actualiza la cantidad.\n",
    "    # Si no existe, agrega un nuevo producto al inventario.\n",
    "   \n",
    "        \n",
    "\n",
    "    def agregar_producto(self,nombre,precio,cantidad):\n",
    "        # A tener en cuenta:\n",
    "        # como inventario es una lista de diccionarios, añadimos cosas con .append()\n",
    "        # tenemos que verificar si está en la en la lista el diccionario que metamos nuevo.\n",
    "        lista_nombres = []\n",
    "        nuevo_producto = {\"nombre\":nombre,\"precio\":precio,\"cantidad\":cantidad}\n",
    "\n",
    "        for producto in self.inventario:\n",
    "            if producto[\"nombre\"] == nombre:\n",
    "                #sumamos la cantidad que ya había a la cantidad nueva del producto\n",
    "                producto[\"cantidad\"] = producto[\"cantidad\"] + cantidad\n",
    "        \n",
    "        for producto in self.inventario:\n",
    "            lista_nombres.append(producto[\"nombre\"])\n",
    "        if nombre not in lista_nombres:\n",
    "            self.inventario.append(nuevo_producto)\n",
    "        \n",
    "        return self.inventario   \n",
    "    \n",
    "              \n",
    "      \n",
    "    def ver_inventario(self):\n",
    "\n",
    "        for producto in self.inventario:\n",
    "            print(f\"Nombre: {producto['nombre']}, Precio: ${producto['precio']}, Cantidad: {producto['cantidad']}\")\n",
    "\n",
    "    def buscar_producto(self,nombre):\n",
    "        for producto in self.inventario:\n",
    "            if producto[\"nombre\"] == nombre:\n",
    "                print(f\"Nombre: {producto['nombre']}, Precio: ${producto['precio']}, Cantidad: {producto['cantidad']}\")\n",
    "\n",
    "\n",
    "    def actualizar_stock(self, nombre, cantidad):\n",
    "\n",
    "\n",
    "        pass\n",
    "    def eliminar_producto(self, nombre):\n",
    "\n",
    "        pass\n",
    "    def calcular_valor_inventario(self):\n",
    "        pass\n",
    "    def buscar_producto_regex(self, patron):\n",
    "        pass\n",
    "    def realizar_compra(self):\n",
    "        pass\n",
    "    def procesar_pago(self):\n",
    "        pass\n",
    "    def agregar_cliente(self, nombre, email):\n",
    "        pass\n",
    "    def ver_clientes(self):\n",
    "        pass\n",
    "\n",
    "    def registrar_compra(self, nombre_cliente, carrito):\n",
    "        pass\n",
    "\n",
    "    def ver_compras_cliente(self, nombre_cliente):\n",
    "        pass\n",
    "\n",
    "    def calcular_ventas_totales(self):\n",
    "        pass\n"
   ]
  },
  {
   "cell_type": "code",
   "execution_count": 292,
   "metadata": {},
   "outputs": [
    {
     "name": "stdout",
     "output_type": "stream",
     "text": [
      "<__main__.TiendaOnline object at 0x7ff8ad6e3b50>\n"
     ]
    }
   ],
   "source": [
    "TiendaOnline()\n",
    "\"\"\" Creamos una instancia: Tienda_Andrea\"\"\"\n",
    "tienda_Andrea = TiendaOnline ()\n",
    "print(tienda_Andrea)"
   ]
  },
  {
   "cell_type": "code",
   "execution_count": 293,
   "metadata": {},
   "outputs": [
    {
     "data": {
      "text/plain": [
       "[{'nombre': 'blusa', 'precio': 20, 'cantidad': 2},\n",
       " {'nombre': 'calcetines', 'precio': 3, 'cantidad': 16}]"
      ]
     },
     "execution_count": 293,
     "metadata": {},
     "output_type": "execute_result"
    }
   ],
   "source": [
    "# Ejercicio 1\n",
    "#Prueba método agregar_productos\n",
    "\n",
    "tienda_Andrea.agregar_producto(nombre=\"blusa\",precio=20,cantidad=2)\n",
    "\n",
    "tienda_Andrea.agregar_producto(nombre=\"calcetines\",precio=3,cantidad=6)\n",
    "\n",
    "#si ya existe\n",
    "tienda_Andrea.agregar_producto(nombre=\"calcetines\",precio=3,cantidad=10)\n"
   ]
  },
  {
   "cell_type": "code",
   "execution_count": 294,
   "metadata": {},
   "outputs": [
    {
     "name": "stdout",
     "output_type": "stream",
     "text": [
      "Nombre: blusa, Precio: $20, Cantidad: 2\n",
      "Nombre: calcetines, Precio: $3, Cantidad: 16\n"
     ]
    }
   ],
   "source": [
    "# Ejercicio 2 \n",
    "#Prueba método ver_inventario(self)\n",
    "\n",
    "tienda_Andrea.ver_inventario()"
   ]
  },
  {
   "cell_type": "code",
   "execution_count": 295,
   "metadata": {},
   "outputs": [
    {
     "name": "stdout",
     "output_type": "stream",
     "text": [
      "Nombre: blusa, Precio: $20, Cantidad: 2\n"
     ]
    }
   ],
   "source": [
    "# Ejercicio 3\n",
    "#Prueba método buscar_producto(self, nombre)\n",
    "\n",
    "tienda_Andrea.buscar_producto(\"blusa\")"
   ]
  },
  {
   "cell_type": "code",
   "execution_count": null,
   "metadata": {},
   "outputs": [],
   "source": []
  },
  {
   "cell_type": "markdown",
   "metadata": {},
   "source": []
  }
 ],
 "metadata": {
  "kernelspec": {
   "display_name": "base",
   "language": "python",
   "name": "python3"
  },
  "language_info": {
   "codemirror_mode": {
    "name": "ipython",
    "version": 3
   },
   "file_extension": ".py",
   "mimetype": "text/x-python",
   "name": "python",
   "nbconvert_exporter": "python",
   "pygments_lexer": "ipython3",
   "version": "3.9.7"
  }
 },
 "nbformat": 4,
 "nbformat_minor": 2
}
